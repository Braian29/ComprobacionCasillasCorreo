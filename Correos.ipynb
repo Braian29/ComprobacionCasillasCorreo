
!pip install py3dns
!pip install openpyxl
from google.colab import drive
from openpyxl import load_workbook
import DNS

drive.mount('/content/drive')

# Abre el archivo de Excel en Google Drive
workbook = load_workbook('--RUTA---DE---ARCHIVO--')
worksheet = workbook.active

# Obtener todas las direcciones de correo electrónico del archivo de Excel
email_addresses = [cell.value for cell in worksheet['A'] if cell.value is not None] # Correos electrónicos están en la primera columna, A

def verify_email(email):
 try:
 domain = email.split('@')[1]
 DNS.DiscoverNameServers()
 mx_hosts = DNS.mxlookup(domain)
 return len(mx_hosts) > 0
 except:
 return False

# Verificar las direcciones de correo electrónico y guardar los resultados en el archivo de Excel
row = 1 # Asume que las direcciones de correo electrónico comienzan en la primera fila
for email in email_addresses:
 if verify_email(email):
 worksheet.cell(row=row, column=2).value = 'Válido' # Guarda el resultado en la segunda columna
 else:
 worksheet.cell(row=row, column=2).value = 'No válido' # Guarda el resultado en la segunda columna
 row += 1

# Guarda los cambios en el archivo de Excel
workbook.save('--RUTA---DE---ARCHIVO--')
